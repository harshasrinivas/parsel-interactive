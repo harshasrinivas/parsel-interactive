{
 "cells": [
  {
   "cell_type": "code",
   "execution_count": 27,
   "metadata": {},
   "outputs": [
    {
     "data": {
      "application/javascript": [
       "Jupyter.notebook.kernel.comm_manager.register_target('my_comm_target',\n",
       "    function(comm, msg) {\n",
       "        comm.on_msg(function(msg) {console.log(msg['content']['data'])});\n",
       "        //comm.on_close(function(msg) {...});\n",
       "        //comm.send({'check': 'hello'});\n",
       "    });"
      ],
      "text/plain": [
       "<IPython.core.display.Javascript object>"
      ]
     },
     "metadata": {},
     "output_type": "display_data"
    }
   ],
   "source": [
    "%%javascript\n",
    "Jupyter.notebook.kernel.comm_manager.register_target('my_comm_target',\n",
    "    function(comm, msg) {\n",
    "        comm.on_msg(function(msg) {console.log(msg['content']['data'])});\n",
    "        //comm.on_close(function(msg) {...});\n",
    "        //comm.send({'check': 'hello'});\n",
    "    });"
   ]
  },
  {
   "cell_type": "code",
   "execution_count": 28,
   "metadata": {
    "collapsed": true
   },
   "outputs": [],
   "source": [
    "from ipykernel.comm import Comm\n",
    "\n",
    "my_comm = Comm(target_name='my_comm_target')\n",
    "my_comm.send({'check': 'hello'})\n",
    "\n",
    "@my_comm.on_msg\n",
    "def _recv(msg):\n",
    "    pass\n",
    "    #do calculation"
   ]
  },
  {
   "cell_type": "code",
   "execution_count": 29,
   "metadata": {},
   "outputs": [
    {
     "data": {
      "application/javascript": [
       "var comm = Jupyter.notebook.kernel.comm_manager.new_comm('my_comm_target1')\n",
       "\n",
       "// Register a handler\n",
       "comm.on_msg(function(msg) {\n",
       "    console.log(msg.content.data);\n",
       "});"
      ],
      "text/plain": [
       "<IPython.core.display.Javascript object>"
      ]
     },
     "metadata": {},
     "output_type": "display_data"
    }
   ],
   "source": [
    "%%javascript\n",
    "var comm = Jupyter.notebook.kernel.comm_manager.new_comm('my_comm_target1')\n",
    "\n",
    "// Register a handler\n",
    "comm.on_msg(function(msg) {\n",
    "    console.log(msg.content.data);\n",
    "});"
   ]
  },
  {
   "cell_type": "code",
   "execution_count": 30,
   "metadata": {
    "collapsed": true
   },
   "outputs": [],
   "source": [
    "def target_func(comm, msg):\n",
    "    # comm is the kernel Comm instance\n",
    "    # msg is the comm_open message\n",
    "\n",
    "    # Register handler for later messages\n",
    "    @comm.on_msg\n",
    "    def _recv(msg):\n",
    "        pass\n",
    "        # Use msg['content']['data'] for the data in the message\n",
    "\n",
    "    # Send data to the frontend\n",
    "    comm.send({'check': 'from_JS'})\n",
    "\n",
    "get_ipython().kernel.comm_manager.register_target('my_comm_target1', target_func)"
   ]
  },
  {
   "cell_type": "code",
   "execution_count": null,
   "metadata": {
    "collapsed": true
   },
   "outputs": [],
   "source": []
  }
 ],
 "metadata": {
  "kernelspec": {
   "display_name": "Python 3",
   "language": "python",
   "name": "python3"
  },
  "language_info": {
   "codemirror_mode": {
    "name": "ipython",
    "version": 3
   },
   "file_extension": ".py",
   "mimetype": "text/x-python",
   "name": "python",
   "nbconvert_exporter": "python",
   "pygments_lexer": "ipython3",
   "version": "3.6.0"
  }
 },
 "nbformat": 4,
 "nbformat_minor": 2
}
