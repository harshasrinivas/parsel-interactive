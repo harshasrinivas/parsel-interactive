{
 "cells": [
  {
   "cell_type": "code",
   "execution_count": 2,
   "metadata": {},
   "outputs": [
    {
     "data": {
      "text/html": [
       "\n",
       "<!DOCTYPE html>\n",
       "<html>\n",
       "<body>\n",
       "\n",
       "<p>Parsel - Interactive</p>\n",
       "\n",
       "<button onclick=\"myFunction()\">Highlight</button>\n",
       "<br><br>\n",
       "\n",
       "<iframe src=\"https://scrapy.org\" width=\"800\" height=\"1000\"></iframe>\n",
       "\n",
       "<script>\n",
       "function(){\n",
       "\tvar%20s=document.createElement('div');\n",
       "\ts.innerHTML='Loading...';\n",
       "\ts.style.color='black';\n",
       "\ts.style.padding='20px';\n",
       "\ts.style.position='fixed';\n",
       "\ts.style.zIndex='9999';\n",
       "\ts.style.fontSize='3.0em';\n",
       "\ts.style.border='2px%20solid%20black';\n",
       "\ts.style.right='40px';s.style.top='40px';\n",
       "\ts.setAttribute('class','selector_gadget_loading');\n",
       "\ts.style.background='white';\n",
       "\tdocument.body.appendChild(s);\n",
       "\ts=document.createElement('script');\n",
       "\ts.setAttribute('type','text/javascript');\n",
       "\ts.setAttribute('src','https://selectorgadget.herokuapp.com/js/selectorgadget.js');\n",
       "\tdocument.body.appendChild(s);})();\n",
       "}\n",
       "</script>\n",
       "\n",
       "</body>\n",
       "</html>\n"
      ],
      "text/plain": [
       "<IPython.core.display.HTML object>"
      ]
     },
     "metadata": {},
     "output_type": "display_data"
    }
   ],
   "source": [
    "import os\n",
    "from IPython.core.display import display, HTML\n",
    "\n",
    "samp = \"\"\"\n",
    "<!DOCTYPE html>\n",
    "<html>\n",
    "<body>\n",
    "\n",
    "<p>Parsel - Interactive</p>\n",
    "\n",
    "<button onclick=\"myFunction()\">Highlight</button>\n",
    "<br><br>\n",
    "\n",
    "<iframe src=\"https://scrapy.org\" width=\"800\" height=\"1000\"></iframe>\n",
    "\n",
    "<script>\n",
    "javascript:(function(){\n",
    "\tvar%20s=document.createElement('div');\n",
    "\ts.innerHTML='Loading...';\n",
    "\ts.style.color='black';\n",
    "\ts.style.padding='20px';\n",
    "\ts.style.position='fixed';\n",
    "\ts.style.zIndex='9999';\n",
    "\ts.style.fontSize='3.0em';\n",
    "\ts.style.border='2px%20solid%20black';\n",
    "\ts.style.right='40px';s.style.top='40px';\n",
    "\ts.setAttribute('class','selector_gadget_loading');\n",
    "\ts.style.background='white';\n",
    "\tdocument.body.appendChild(s);\n",
    "\ts=document.createElement('script');\n",
    "\ts.setAttribute('type','text/javascript');\n",
    "\ts.setAttribute('src','https://selectorgadget.herokuapp.com/js/selectorgadget.js');\n",
    "\tdocument.body.appendChild(s);})();\n",
    "}\n",
    "</script>\n",
    "\n",
    "</body>\n",
    "</html>\n",
    "\"\"\"\n",
    "\n",
    "newpath = os.path.realpath('./iframe.html')\n",
    "\n",
    "with open(newpath, 'w') as f:\n",
    "    f.write(samp)\n",
    "\n",
    "#display(IFrame('./iframe.html', width=900, height=1000))\n",
    "display(HTML(samp))\n"
   ]
  },
  {
   "cell_type": "code",
   "execution_count": null,
   "metadata": {
    "collapsed": true
   },
   "outputs": [],
   "source": []
  }
 ],
 "metadata": {
  "kernelspec": {
   "display_name": "Python 3",
   "language": "python",
   "name": "python3"
  },
  "language_info": {
   "codemirror_mode": {
    "name": "ipython",
    "version": 3
   },
   "file_extension": ".py",
   "mimetype": "text/x-python",
   "name": "python",
   "nbconvert_exporter": "python",
   "pygments_lexer": "ipython3",
   "version": "3.6.0"
  }
 },
 "nbformat": 4,
 "nbformat_minor": 2
}
