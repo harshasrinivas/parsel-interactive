{
 "cells": [
  {
   "cell_type": "code",
   "execution_count": 77,
   "metadata": {
    "scrolled": true
   },
   "outputs": [
    {
     "data": {
      "text/html": [
       "\n",
       "        <iframe\n",
       "            width=\"900\"\n",
       "            height=\"1000\"\n",
       "            src=\"./modified.html\"\n",
       "            frameborder=\"0\"\n",
       "            allowfullscreen\n",
       "        ></iframe>\n",
       "        "
      ],
      "text/plain": [
       "<IPython.lib.display.IFrame at 0x10a1cef28>"
      ]
     },
     "metadata": {},
     "output_type": "display_data"
    }
   ],
   "source": [
    "import webbrowser\n",
    "import os\n",
    "import parsel\n",
    "from urllib.request import urlopen\n",
    "from lxml.html import fromstring, tostring\n",
    "from IPython.display import IFrame\n",
    "from IPython.core.display import display, HTML\n",
    "from IPython.display import clear_output\n",
    "from ipywidgets import widgets\n",
    "\n",
    "class interactive(object):\n",
    "\n",
    "    def __init__(self):\n",
    "        clear_output()\n",
    "        self.htmlsample = ''\n",
    "\n",
    "    def get_page(self, url):\n",
    "        html = urlopen(url).read()\n",
    "        dom = fromstring(html)\n",
    "        dom.make_links_absolute(url)\n",
    "        return dom\n",
    "\n",
    "    def analyze(self, url):\n",
    "        dom = self.get_page(url)\n",
    "        self.htmlsample = tostring(dom).decode('utf-8')\n",
    "\n",
    "    def cleanup(self, x):\n",
    "        x = [i.strip() for i in x]\n",
    "        x = [i for i in x if i != '']\n",
    "        return x\n",
    "\n",
    "    def show(self, css_selector):\n",
    "        doc = parsel.Selector(text=self.htmlsample)\n",
    "        selector_list = doc.css(css_selector)\n",
    "        x = selector_list.extract()\n",
    "        x = self.cleanup(x)\n",
    "        y = ['<style> .parselinteractive {background-color: yellow; font-weight:bold;} </style>' + \n",
    "             '<span class=\"parselinteractive\">' +\n",
    "             i + '</span>' for i in x]\n",
    "        \n",
    "        newsample = self.htmlsample\n",
    "\n",
    "        for i, j in zip(x, y):\n",
    "            newsample = newsample.replace(i, j)\n",
    "\n",
    "        newpath = os.path.realpath('./modified.html')\n",
    "\n",
    "        with open(newpath, 'w') as f:\n",
    "            f.write(newsample)\n",
    "\n",
    "        display(IFrame('./modified.html', width=900, height=1000))\n",
    "\n",
    "\n",
    "website = widgets.Text(description=\"Website to scrape\", width=200)\n",
    "display(website)\n",
    "\n",
    "css_selector = widgets.Text(description=\"CSS Selector\", width=200)\n",
    "display(css_selector)\n",
    "\n",
    "button = widgets.Button(description=\"Check the selector\")\n",
    "display(button)\n",
    "\n",
    "def on_button_clicked(b):\n",
    "    obj = interactive()\n",
    "    obj.analyze(str(website.value))\n",
    "    obj.show(css_selector.value)\n",
    "\n",
    "button.on_click(on_button_clicked)"
   ]
  },
  {
   "cell_type": "code",
   "execution_count": null,
   "metadata": {
    "collapsed": true
   },
   "outputs": [],
   "source": []
  }
 ],
 "metadata": {
  "kernelspec": {
   "display_name": "Python 3",
   "language": "python",
   "name": "python3"
  },
  "language_info": {
   "codemirror_mode": {
    "name": "ipython",
    "version": 3
   },
   "file_extension": ".py",
   "mimetype": "text/x-python",
   "name": "python",
   "nbconvert_exporter": "python",
   "pygments_lexer": "ipython3",
   "version": "3.6.0"
  }
 },
 "nbformat": 4,
 "nbformat_minor": 2
}
