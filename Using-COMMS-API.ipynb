{
 "cells": [
  {
   "cell_type": "code",
   "execution_count": 208,
   "metadata": {},
   "outputs": [
    {
     "data": {
      "application/javascript": [
       "var comm_manager=Jupyter.notebook.kernel.comm_manager;\n",
       "\n",
       "var fill_search_box=function(msg){\n",
       "    console.log(msg.content.data);\n",
       "    setTimeout(function(){\n",
       "    var lst = document.getElementsByClassName(\"sg_ignore\");\n",
       "    console.log(lst);\n",
       "    lst[1].value=msg.content.data;\n",
       "    }, 2000);\n",
       "}\n",
       "\n",
       "comm_manager.register_target('sGadget', function(comm, msg) {\n",
       "    var s=document.createElement('div');\n",
       "    s.innerHTML='Loading...';\n",
       "    s.style.color='black';\n",
       "    s.style.padding='20px';\n",
       "    s.style.position='fixed';\n",
       "    s.style.zIndex='9999';\n",
       "    s.style.fontSize='3.0em';\n",
       "    s.style.border='2px solid black';\n",
       "    s.style.right='40px';s.style.top='40px';\n",
       "    s.setAttribute('class','selector_gadget_loading');\n",
       "    s.style.background='white';\n",
       "    document.body.appendChild(s);\n",
       "    s=document.createElement('script');\n",
       "    s.setAttribute('type','text/javascript');\n",
       "    s.setAttribute('src','http://localhost:8888/tree/parttwo/selectorgadget/public/js/selectorgadget.js');\n",
       "    document.body.appendChild(s);\n",
       "    comm.on_msg(fill_search_box);\n",
       "})"
      ],
      "text/plain": [
       "<IPython.core.display.Javascript object>"
      ]
     },
     "metadata": {},
     "output_type": "display_data"
    }
   ],
   "source": [
    "%%javascript\n",
    "var comm_manager=Jupyter.notebook.kernel.comm_manager;\n",
    "\n",
    "var fill_search_box=function(msg){\n",
    "    console.log(msg.content.data);\n",
    "    setTimeout(function(){\n",
    "    var lst = document.getElementsByClassName(\"sg_ignore\");\n",
    "    console.log(lst);\n",
    "    lst[1].value=msg.content.data;\n",
    "    }, 2000);\n",
    "}\n",
    "\n",
    "comm_manager.register_target('sGadget', function(comm, msg) {\n",
    "    var s=document.createElement('div');\n",
    "    s.innerHTML='Loading...';\n",
    "    s.style.color='black';\n",
    "    s.style.padding='20px';\n",
    "    s.style.position='fixed';\n",
    "    s.style.zIndex='9999';\n",
    "    s.style.fontSize='3.0em';\n",
    "    s.style.border='2px solid black';\n",
    "    s.style.right='40px';s.style.top='40px';\n",
    "    s.setAttribute('class','selector_gadget_loading');\n",
    "    s.style.background='white';\n",
    "    document.body.appendChild(s);\n",
    "    s=document.createElement('script');\n",
    "    s.setAttribute('type','text/javascript');\n",
    "    s.setAttribute('src','http://localhost:8888/tree/parttwo/selectorgadget/public/js/selectorgadget.js');\n",
    "    document.body.appendChild(s);\n",
    "    comm.on_msg(fill_search_box);\n",
    "})"
   ]
  },
  {
   "cell_type": "code",
   "execution_count": 209,
   "metadata": {},
   "outputs": [
    {
     "data": {
      "application/vnd.jupyter.widget-view+json": {
       "model_id": "c34c5d21a7d245dca811d549a9d8ef37"
      }
     },
     "metadata": {},
     "output_type": "display_data"
    },
    {
     "data": {
      "application/vnd.jupyter.widget-view+json": {
       "model_id": "4362ee46b7bb46c686c464200b4a6823"
      }
     },
     "metadata": {},
     "output_type": "display_data"
    }
   ],
   "source": [
    "from ipykernel.comm import Comm \n",
    "from IPython.core.display import display, HTML\n",
    "from IPython.display import clear_output\n",
    "from ipywidgets import widgets\n",
    "\n",
    "search_term = widgets.Text(description=\"Selector\", width=200)\n",
    "display(search_term)\n",
    "\n",
    "button = widgets.Button(description=\"Send data to sGadget\")\n",
    "display(button)\n",
    "\n",
    "def on_button_clicked(b):\n",
    "    c=Comm(target_name='sGadget',data={})\n",
    "    c.send(search_term.value)\n",
    "\n",
    "button.on_click(on_button_clicked)"
   ]
  },
  {
   "cell_type": "code",
   "execution_count": null,
   "metadata": {
    "collapsed": true
   },
   "outputs": [],
   "source": []
  }
 ],
 "metadata": {
  "kernelspec": {
   "display_name": "Python 3",
   "language": "python",
   "name": "python3"
  },
  "language_info": {
   "codemirror_mode": {
    "name": "ipython",
    "version": 3
   },
   "file_extension": ".py",
   "mimetype": "text/x-python",
   "name": "python",
   "nbconvert_exporter": "python",
   "pygments_lexer": "ipython3",
   "version": "3.6.0"
  }
 },
 "nbformat": 4,
 "nbformat_minor": 2
}
