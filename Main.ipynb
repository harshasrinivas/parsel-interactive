{
 "cells": [
  {
   "cell_type": "code",
   "execution_count": 46,
   "metadata": {},
   "outputs": [
    {
     "data": {
      "application/javascript": [
       "function myFunc() {\n",
       "        var s=document.createElement('div');\n",
       "        s.innerHTML='Loading...';\n",
       "        s.style.color='black';\n",
       "        s.style.padding='20px';\n",
       "        s.style.position='fixed';\n",
       "        s.style.zIndex='9999';\n",
       "        s.style.fontSize='3.0em';\n",
       "        s.style.border='2px solid black';\n",
       "        s.style.right='40px';s.style.top='40px';\n",
       "        s.setAttribute('class','selector_gadget_loading');\n",
       "        s.style.background='white';\n",
       "        document.body.appendChild(s);\n",
       "        s=document.createElement('script');\n",
       "        s.setAttribute('type','text/javascript');\n",
       "        s.setAttribute('src','http://localhost:8888/tree/parttwo/selectorgadget/public/js/selectorgadget.js');\n",
       "        document.body.appendChild(s);\n",
       "}\n",
       "       \n",
       "Jupyter.notebook.kernel.comm_manager.register_target('my_comm_target',\n",
       "function(comm, msg) {\n",
       "    comm.on_msg(function(msg) {\n",
       "        myFunc();\n",
       "        setTimeout(function(){\n",
       "            console.log(msg['content']['data']);\n",
       "            var lst = document.getElementsByClassName(\"sg_ignore\");\n",
       "            lst[1].value=msg['content']['data']['term'];\n",
       "        }, 2000);\n",
       "    });\n",
       "    \n",
       "comm.send({'foo': 1});\n",
       "});\n",
       "\n",
       "setTimeout(function(){\n",
       "    var lst = document.getElementsByClassName(\"sg_ignore\");\n",
       "    JS_to_Python(lst[1].value)\n",
       "    console.log(lst[1].value)\n",
       "}, 10000);\n",
       "\n",
       "\n",
       "function JS_to_Python(data){\n",
       "    var comm = Jupyter.notebook.kernel.comm_manager.new_comm('JS_Python',\n",
       "                                                         {'foo': 6})\n",
       "    // Send data\n",
       "    comm.send({'term': data})\n",
       "\n",
       "    // Register a handler\n",
       "    comm.on_msg(function(msg) {\n",
       "        console.log(msg.content.data.foo);\n",
       "    });\n",
       "}"
      ],
      "text/plain": [
       "<IPython.core.display.Javascript object>"
      ]
     },
     "metadata": {},
     "output_type": "display_data"
    }
   ],
   "source": [
    "%%javascript\n",
    "function myFunc() {\n",
    "        var s=document.createElement('div');\n",
    "        s.innerHTML='Loading...';\n",
    "        s.style.color='black';\n",
    "        s.style.padding='20px';\n",
    "        s.style.position='fixed';\n",
    "        s.style.zIndex='9999';\n",
    "        s.style.fontSize='3.0em';\n",
    "        s.style.border='2px solid black';\n",
    "        s.style.right='40px';s.style.top='40px';\n",
    "        s.setAttribute('class','selector_gadget_loading');\n",
    "        s.style.background='white';\n",
    "        document.body.appendChild(s);\n",
    "        s=document.createElement('script');\n",
    "        s.setAttribute('type','text/javascript');\n",
    "        s.setAttribute('src','http://localhost:8888/tree/parttwo/selectorgadget/public/js/selectorgadget.js');\n",
    "        document.body.appendChild(s);\n",
    "}\n",
    "       \n",
    "Jupyter.notebook.kernel.comm_manager.register_target('my_comm_target',\n",
    "function(comm, msg) {\n",
    "    comm.on_msg(function(msg) {\n",
    "        myFunc();\n",
    "        setTimeout(function(){\n",
    "            console.log(msg['content']['data']);\n",
    "            var lst = document.getElementsByClassName(\"sg_ignore\");\n",
    "            lst[1].value=msg['content']['data']['term'];\n",
    "        }, 2000);\n",
    "    });\n",
    "    \n",
    "comm.send({'foo': 1});\n",
    "});\n",
    "\n",
    "setTimeout(function(){\n",
    "    var lst = document.getElementsByClassName(\"sg_ignore\");\n",
    "    JS_to_Python(lst[1].value)\n",
    "    console.log(lst[1].value)\n",
    "}, 10000);\n",
    "\n",
    "\n",
    "function JS_to_Python(data){\n",
    "    var comm = Jupyter.notebook.kernel.comm_manager.new_comm('JS_Python',\n",
    "                                                         {'foo': 6})\n",
    "    // Send data\n",
    "    comm.send({'term': data})\n",
    "\n",
    "    // Register a handler\n",
    "    comm.on_msg(function(msg) {\n",
    "        console.log(msg.content.data.foo);\n",
    "    });\n",
    "}"
   ]
  },
  {
   "cell_type": "code",
   "execution_count": 48,
   "metadata": {},
   "outputs": [
    {
     "data": {
      "application/vnd.jupyter.widget-view+json": {
       "model_id": "908ff1d0db764a1f9017c3a6def3c762"
      }
     },
     "metadata": {},
     "output_type": "display_data"
    },
    {
     "data": {
      "application/vnd.jupyter.widget-view+json": {
       "model_id": "8a397a54ad114db6bfd92eb8b1c464d1"
      }
     },
     "metadata": {},
     "output_type": "display_data"
    },
    {
     "data": {
      "application/vnd.jupyter.widget-view+json": {
       "model_id": "deb2d3eb75bb45eb87c48499175aad63"
      }
     },
     "metadata": {},
     "output_type": "display_data"
    }
   ],
   "source": [
    "## import webbrowser\n",
    "import os, time\n",
    "import parsel\n",
    "from urllib.request import urlopen\n",
    "from lxml.html import fromstring, tostring\n",
    "from IPython.display import IFrame\n",
    "from IPython.core.display import display, HTML\n",
    "from IPython.display import clear_output\n",
    "from ipywidgets import widgets\n",
    "from ipykernel.comm import Comm\n",
    "\n",
    "class interactive(object):\n",
    "\n",
    "    def __init__(self):\n",
    "        clear_output()\n",
    "        self.htmlsample = ''\n",
    "\n",
    "    def get_page(self, url):\n",
    "        html = urlopen(url).read()\n",
    "        dom = fromstring(html)\n",
    "        dom.make_links_absolute(url)\n",
    "        return dom\n",
    "\n",
    "    def analyze(self, url):\n",
    "        dom = self.get_page(url)\n",
    "        self.htmlsample = tostring(dom).decode('utf-8')\n",
    "\n",
    "    def show(self, search_term):\n",
    "        newsample = self.htmlsample\n",
    "        #newsample = newsample.replace('<body', '<body onload=\"myFunc()\"')\n",
    "\n",
    "        newpath = os.path.realpath('./modified.html')\n",
    "\n",
    "        with open(newpath, 'w') as f:\n",
    "            f.write(newsample)\n",
    "\n",
    "        display(IFrame('./modified.html', width=900, height=1000))\n",
    "\n",
    "\n",
    "website = widgets.Text(description=\"Website to scrape\", width=200)\n",
    "display(website)\n",
    "\n",
    "search_term = widgets.Text(description=\"Selector\", width=200)\n",
    "display(search_term)\n",
    "\n",
    "button = widgets.Button(description=\"Check the selector\")\n",
    "display(button)\n",
    "\n",
    "def on_button_clicked(b):\n",
    "    obj = interactive()\n",
    "    obj.analyze(str(website.value))\n",
    "    obj.show(search_term)\n",
    "    my_comm = Comm(target_name='my_comm_target', data={'foo': 1})\n",
    "    my_comm.send({'term': search_term.value})\n",
    "    get_ipython().kernel.comm_manager.register_target('JS_Python', target_func)\n",
    "\n",
    "button.on_click(on_button_clicked)\n",
    "\n",
    "def target_func(comm, msg):\n",
    "    # comm is the kernel Comm instance\n",
    "    # msg is the comm_open message\n",
    "\n",
    "    # Register handler for later messages\n",
    "    @comm.on_msg\n",
    "    def _recv(msg):\n",
    "        search_term.value = msg['content']['data']['term']\n",
    "\n",
    "    comm.send({'foo': 5})\n",
    "\n"
   ]
  },
  {
   "cell_type": "code",
   "execution_count": null,
   "metadata": {
    "collapsed": true
   },
   "outputs": [],
   "source": []
  }
 ],
 "metadata": {
  "kernelspec": {
   "display_name": "Python 3",
   "language": "python",
   "name": "python3"
  },
  "language_info": {
   "codemirror_mode": {
    "name": "ipython",
    "version": 3
   },
   "file_extension": ".py",
   "mimetype": "text/x-python",
   "name": "python",
   "nbconvert_exporter": "python",
   "pygments_lexer": "ipython3",
   "version": "3.6.0"
  }
 },
 "nbformat": 4,
 "nbformat_minor": 2
}
