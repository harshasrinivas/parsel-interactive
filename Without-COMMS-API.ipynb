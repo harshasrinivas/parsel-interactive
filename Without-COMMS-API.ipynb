{
 "cells": [
  {
   "cell_type": "code",
   "execution_count": 36,
   "metadata": {
    "scrolled": true
   },
   "outputs": [
    {
     "data": {
      "text/html": [
       "\n",
       "        <iframe\n",
       "            width=\"900\"\n",
       "            height=\"1000\"\n",
       "            src=\"./modified.html\"\n",
       "            frameborder=\"0\"\n",
       "            allowfullscreen\n",
       "        ></iframe>\n",
       "        "
      ],
      "text/plain": [
       "<IPython.lib.display.IFrame at 0x106189668>"
      ]
     },
     "metadata": {},
     "output_type": "display_data"
    }
   ],
   "source": [
    "import webbrowser\n",
    "import os\n",
    "import parsel\n",
    "from urllib.request import urlopen\n",
    "from lxml.html import fromstring, tostring\n",
    "from IPython.display import IFrame\n",
    "from IPython.core.display import display, HTML\n",
    "from IPython.display import clear_output\n",
    "from ipywidgets import widgets\n",
    "\n",
    "class interactive(object):\n",
    "\n",
    "    def __init__(self):\n",
    "        clear_output()\n",
    "        self.htmlsample = ''\n",
    "\n",
    "    def get_page(self, url):\n",
    "        html = urlopen(url).read()\n",
    "        dom = fromstring(html)\n",
    "        dom.make_links_absolute(url)\n",
    "        return dom\n",
    "\n",
    "    def analyze(self, url):\n",
    "        dom = self.get_page(url)\n",
    "        self.htmlsample = tostring(dom).decode('utf-8')\n",
    "\n",
    "    def show(self, search_term):\n",
    "        \n",
    "        js_selectorgadget = \"\"\"\n",
    "        <script>\n",
    "        function myFunc() {\n",
    "        var s=document.createElement('div');\n",
    "        s.innerHTML='Loading...';\n",
    "        s.style.color='black';\n",
    "        s.style.padding='20px';\n",
    "        s.style.position='fixed';\n",
    "        s.style.zIndex='9999';\n",
    "        s.style.fontSize='3.0em';\n",
    "        s.style.border='2px solid black';\n",
    "        s.style.right='40px';s.style.top='40px';\n",
    "        s.setAttribute('class','selector_gadget_loading');\n",
    "        s.style.background='white';\n",
    "        document.body.appendChild(s);\n",
    "        s=document.createElement('script');\n",
    "        s.setAttribute('type','text/javascript');\n",
    "        s.setAttribute('src','http://localhost:8888/tree/parttwo/selectorgadget/public/js/selectorgadget.js');\n",
    "        document.body.appendChild(s);}\n",
    "        </script>\n",
    "        \n",
    "        <script type=\"text/javascript\">\n",
    "        myFunc();\n",
    "        setTimeout(function(){\n",
    "            var lst = document.getElementsByClassName(\"sg_ignore\");\n",
    "            console.log(lst);\n",
    "            lst[1].value='%s';\n",
    "        }, 2000);\n",
    "        </script>\n",
    "        \"\"\" % search_term.value\n",
    "        \n",
    "        self.htmlsample = self.htmlsample + js_selectorgadget\n",
    "        \n",
    "        newsample = self.htmlsample\n",
    "        #newsample = newsample.replace('<body', '<body onload=\"myFunc()\"')\n",
    "\n",
    "        newpath = os.path.realpath('./modified.html')\n",
    "\n",
    "        with open(newpath, 'w') as f:\n",
    "            f.write(newsample)\n",
    "\n",
    "        display(IFrame('./modified.html', width=900, height=1000))\n",
    "\n",
    "\n",
    "website = widgets.Text(description=\"Website to scrape\", width=200)\n",
    "display(website)\n",
    "\n",
    "search_term = widgets.Text(description=\"Selector\", width=200)\n",
    "display(search_term)\n",
    "\n",
    "button = widgets.Button(description=\"Check the selector\")\n",
    "display(button)\n",
    "\n",
    "def on_button_clicked(b):\n",
    "    obj = interactive()\n",
    "    obj.analyze(str(website.value))\n",
    "    obj.show(search_term)\n",
    "\n",
    "button.on_click(on_button_clicked)"
   ]
  },
  {
   "cell_type": "code",
   "execution_count": null,
   "metadata": {
    "collapsed": true
   },
   "outputs": [],
   "source": []
  }
 ],
 "metadata": {
  "kernelspec": {
   "display_name": "Python 3",
   "language": "python",
   "name": "python3"
  },
  "language_info": {
   "codemirror_mode": {
    "name": "ipython",
    "version": 3
   },
   "file_extension": ".py",
   "mimetype": "text/x-python",
   "name": "python",
   "nbconvert_exporter": "python",
   "pygments_lexer": "ipython3",
   "version": "3.6.0"
  }
 },
 "nbformat": 4,
 "nbformat_minor": 2
}
